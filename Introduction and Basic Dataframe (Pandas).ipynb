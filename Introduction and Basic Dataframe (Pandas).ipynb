{
  "nbformat": 4,
  "nbformat_minor": 5,
  "metadata": {
    "kernelspec": {
      "display_name": "Python 3",
      "language": "python",
      "name": "python3"
    },
    "language_info": {
      "codemirror_mode": {
        "name": "ipython",
        "version": 3
      },
      "file_extension": ".py",
      "mimetype": "text/x-python",
      "name": "python",
      "nbconvert_exporter": "python",
      "pygments_lexer": "ipython3",
      "version": "3.8.8"
    },
    "colab": {
      "name": "Nunky Febilia - Hi Five.ipynb",
      "provenance": []
    }
  },
  "cells": [
    {
      "cell_type": "markdown",
      "metadata": {
        "id": "b2b0c770"
      },
      "source": [
        "**1. Ubahlah kumpulan data di atas menjadi sebuah kesatuan dataframe**"
      ],
      "id": "b2b0c770"
    },
    {
      "cell_type": "code",
      "metadata": {
        "id": "7070fa8f"
      },
      "source": [
        "import pandas as pd\n",
        "import numpy as np"
      ],
      "id": "7070fa8f",
      "execution_count": null,
      "outputs": []
    },
    {
      "cell_type": "code",
      "metadata": {
        "id": "b5d6e5c3"
      },
      "source": [
        "series = pd.Series([101621001,101621002,101621003,101216004])\n",
        "dictionary = {'mata_kuliah':['Kalkulus','Struktur Data','Bahasa Pemrograman I','Basis Data']}\n",
        "array = np.array([90,80,90,95])\n",
        "lst = ['Budi','Ira','Bagas','Kusuma']\n",
        "tpl = (2,3,3,3)"
      ],
      "id": "b5d6e5c3",
      "execution_count": null,
      "outputs": []
    },
    {
      "cell_type": "code",
      "metadata": {
        "id": "1a215f76",
        "outputId": "db931424-9ed0-49b9-d3fd-570be657a07a"
      },
      "source": [
        "#Jawaban no.1\n",
        "df1 = pd.DataFrame(series, columns=['nim'])\n",
        "df_mk = pd.DataFrame(dictionary)\n",
        "df_sem = pd.DataFrame(tpl)\n",
        "df1['nama'] = lst\n",
        "df1['semester'] = df_sem\n",
        "df1['mata_kuliah'] = df_mk\n",
        "df1['nilai'] = array\n",
        "df1.head()"
      ],
      "id": "1a215f76",
      "execution_count": null,
      "outputs": [
        {
          "data": {
            "text/html": [
              "<div>\n",
              "<style scoped>\n",
              "    .dataframe tbody tr th:only-of-type {\n",
              "        vertical-align: middle;\n",
              "    }\n",
              "\n",
              "    .dataframe tbody tr th {\n",
              "        vertical-align: top;\n",
              "    }\n",
              "\n",
              "    .dataframe thead th {\n",
              "        text-align: right;\n",
              "    }\n",
              "</style>\n",
              "<table border=\"1\" class=\"dataframe\">\n",
              "  <thead>\n",
              "    <tr style=\"text-align: right;\">\n",
              "      <th></th>\n",
              "      <th>nim</th>\n",
              "      <th>nama</th>\n",
              "      <th>semester</th>\n",
              "      <th>mata_kuliah</th>\n",
              "      <th>nilai</th>\n",
              "    </tr>\n",
              "  </thead>\n",
              "  <tbody>\n",
              "    <tr>\n",
              "      <th>0</th>\n",
              "      <td>101621001</td>\n",
              "      <td>Budi</td>\n",
              "      <td>2</td>\n",
              "      <td>Kalkulus</td>\n",
              "      <td>90</td>\n",
              "    </tr>\n",
              "    <tr>\n",
              "      <th>1</th>\n",
              "      <td>101621002</td>\n",
              "      <td>Ira</td>\n",
              "      <td>3</td>\n",
              "      <td>Struktur Data</td>\n",
              "      <td>80</td>\n",
              "    </tr>\n",
              "    <tr>\n",
              "      <th>2</th>\n",
              "      <td>101621003</td>\n",
              "      <td>Bagas</td>\n",
              "      <td>3</td>\n",
              "      <td>Bahasa Pemrograman I</td>\n",
              "      <td>90</td>\n",
              "    </tr>\n",
              "    <tr>\n",
              "      <th>3</th>\n",
              "      <td>101216004</td>\n",
              "      <td>Kusuma</td>\n",
              "      <td>3</td>\n",
              "      <td>Basis Data</td>\n",
              "      <td>95</td>\n",
              "    </tr>\n",
              "  </tbody>\n",
              "</table>\n",
              "</div>"
            ],
            "text/plain": [
              "         nim    nama  semester           mata_kuliah  nilai\n",
              "0  101621001    Budi         2              Kalkulus     90\n",
              "1  101621002     Ira         3         Struktur Data     80\n",
              "2  101621003   Bagas         3  Bahasa Pemrograman I     90\n",
              "3  101216004  Kusuma         3            Basis Data     95"
            ]
          },
          "execution_count": 3,
          "metadata": {},
          "output_type": "execute_result"
        }
      ]
    },
    {
      "cell_type": "markdown",
      "metadata": {
        "id": "3a02cf43"
      },
      "source": [
        "**2. Buatlah sebuah dataframe dengan metode tipe data awal berupa dictionary**"
      ],
      "id": "3a02cf43"
    },
    {
      "cell_type": "code",
      "metadata": {
        "id": "de4d640a",
        "outputId": "10d89d26-2298-4a41-aa18-764c474a00c1"
      },
      "source": [
        "Name = ['John', 'Bob', 'Shiela', 'Tokyo']\n",
        "Education = ['Masters', 'Graduate', 'Graduate', 'Master']\n",
        "Age = [27, 23, 22, 26]\n",
        "Gender = ['Male', 'Male', 'Female', 'Female']\n",
        "Occupation = ['Accountant', 'Technician', 'Art Illustrator', 'Pharmacist']\n",
        "Salary = ['$ 4,000', '$ 3,500', '$ 2,650', '$ 2,700']\n",
        "\n",
        "dictionary = {'Name':Name, 'Education':Education, 'Age':Age, 'Gender':Gender, 'Occupation':Occupation, 'Monthly Salary':Salary}\n",
        "df = pd.DataFrame(dictionary)\n",
        "df"
      ],
      "id": "de4d640a",
      "execution_count": null,
      "outputs": [
        {
          "data": {
            "text/html": [
              "<div>\n",
              "<style scoped>\n",
              "    .dataframe tbody tr th:only-of-type {\n",
              "        vertical-align: middle;\n",
              "    }\n",
              "\n",
              "    .dataframe tbody tr th {\n",
              "        vertical-align: top;\n",
              "    }\n",
              "\n",
              "    .dataframe thead th {\n",
              "        text-align: right;\n",
              "    }\n",
              "</style>\n",
              "<table border=\"1\" class=\"dataframe\">\n",
              "  <thead>\n",
              "    <tr style=\"text-align: right;\">\n",
              "      <th></th>\n",
              "      <th>Name</th>\n",
              "      <th>Education</th>\n",
              "      <th>Age</th>\n",
              "      <th>Gender</th>\n",
              "      <th>Occupation</th>\n",
              "      <th>Monthly Salary</th>\n",
              "    </tr>\n",
              "  </thead>\n",
              "  <tbody>\n",
              "    <tr>\n",
              "      <th>0</th>\n",
              "      <td>John</td>\n",
              "      <td>Masters</td>\n",
              "      <td>27</td>\n",
              "      <td>Male</td>\n",
              "      <td>Accountant</td>\n",
              "      <td>$ 4,000</td>\n",
              "    </tr>\n",
              "    <tr>\n",
              "      <th>1</th>\n",
              "      <td>Bob</td>\n",
              "      <td>Graduate</td>\n",
              "      <td>23</td>\n",
              "      <td>Male</td>\n",
              "      <td>Technician</td>\n",
              "      <td>$ 3,500</td>\n",
              "    </tr>\n",
              "    <tr>\n",
              "      <th>2</th>\n",
              "      <td>Shiela</td>\n",
              "      <td>Graduate</td>\n",
              "      <td>22</td>\n",
              "      <td>Female</td>\n",
              "      <td>Art Illustrator</td>\n",
              "      <td>$ 2,650</td>\n",
              "    </tr>\n",
              "    <tr>\n",
              "      <th>3</th>\n",
              "      <td>Tokyo</td>\n",
              "      <td>Master</td>\n",
              "      <td>26</td>\n",
              "      <td>Female</td>\n",
              "      <td>Pharmacist</td>\n",
              "      <td>$ 2,700</td>\n",
              "    </tr>\n",
              "  </tbody>\n",
              "</table>\n",
              "</div>"
            ],
            "text/plain": [
              "     Name Education  Age  Gender       Occupation Monthly Salary\n",
              "0    John   Masters   27    Male       Accountant        $ 4,000\n",
              "1     Bob  Graduate   23    Male       Technician        $ 3,500\n",
              "2  Shiela  Graduate   22  Female  Art Illustrator        $ 2,650\n",
              "3   Tokyo    Master   26  Female       Pharmacist        $ 2,700"
            ]
          },
          "execution_count": 4,
          "metadata": {},
          "output_type": "execute_result"
        }
      ]
    },
    {
      "cell_type": "code",
      "metadata": {
        "id": "1bcde01a",
        "outputId": "eb375f85-58fa-4c43-9cb8-bc26b89b88f3"
      },
      "source": [
        "df.dtypes"
      ],
      "id": "1bcde01a",
      "execution_count": null,
      "outputs": [
        {
          "data": {
            "text/plain": [
              "Name              object\n",
              "Education         object\n",
              "Age                int64\n",
              "Gender            object\n",
              "Occupation        object\n",
              "Monthly Salary    object\n",
              "dtype: object"
            ]
          },
          "execution_count": 5,
          "metadata": {},
          "output_type": "execute_result"
        }
      ]
    }
  ]
}